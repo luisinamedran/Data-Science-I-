{
  "nbformat": 4,
  "nbformat_minor": 0,
  "metadata": {
    "colab": {
      "provenance": [],
      "authorship_tag": "ABX9TyNfMo6bHe5plOzHGjjjSmXE",
      "include_colab_link": true
    },
    "kernelspec": {
      "name": "python3",
      "display_name": "Python 3"
    },
    "language_info": {
      "name": "python"
    }
  },
  "cells": [
    {
      "cell_type": "markdown",
      "metadata": {
        "id": "view-in-github",
        "colab_type": "text"
      },
      "source": [
        "<a href=\"https://colab.research.google.com/github/luisinamedran/Data-Science-I-/blob/main/Entrega%201/%20ProyectoDS_ParteI_MedranL.ipynb\" target=\"_parent\"><img src=\"https://colab.research.google.com/assets/colab-badge.svg\" alt=\"Open In Colab\"/></a>"
      ]
    },
    {
      "cell_type": "markdown",
      "source": [
        "# Proyecto Final - Visualizaciones en Python\n",
        "\n",
        "### Primera Entrega  \n",
        "Archivo: `ProyectoDS_ParteI_MedranL.ipynb`\n",
        "\n",
        "---\n",
        "📌**Abstract**\n",
        "\n",
        "Este proyecto utiliza el dataset *“Gym Members Exercise Dataset”* disponible en Kaggle, compuesto por 973 registros vinculados a la actividad física. La información recopilada contempla variables como frecuencia cardíaca, calorías consumidas, duración de los entrenamientos, además de nivel de experiencia y género de los participantes.  \n",
        "\n",
        "El propósito central del trabajo es realizar una exploración descriptiva y visual de los datos, abordando preguntas relevantes sobre cómo se relacionan las distintas variables. Para ello se aplicarán métodos de análisis univariado, bivariado y multivariado, empleando herramientas como **Pandas**, **Matplotlib** y **Seaborn**.  \n",
        "\n",
        "En la primera fase se llevará a cabo un proceso de limpieza y detección de valores faltantes, seguido de la generación de visualizaciones que permitan extraer conclusiones clave. Este estudio busca sentar las bases para futuros proyectos orientados al desarrollo de modelos predictivos basados en el conjunto de datos.  \n",
        "\n",
        "---\n",
        "❓**Preguntas de interes**\n",
        "\n",
        "1) **¿Cómo se distribuye la duración promedio de las sesiones (Session_Duration) en horas?**  \n",
        "➡️ *Análisis univariado → Histogramas / boxplots*   \n",
        "\n",
        "2) **¿Existe una relación entre la duración de la sesión (Session_Duration) y las calorías quemadas (Calories_Burned)?**  \n",
        "➡️ *Análisis bivariado → Correlación / regresión simple / scatter plot*  \n",
        "\n",
        "3) **¿De qué manera influyen el nivel de experiencia (Experience_Level) y la frecuencia semanal de entrenamiento (Workout_Frequency) en el porcentaje de grasa corporal (Fat_Percentage)?**  \n",
        "➡️ *Análisis multivariado → ANOVA / regresión múltiple*\n",
        "\n",
        "---\n",
        "🎯**Objetivo del proyecto**\n",
        "\n",
        "El objetivo de este proyecto es analizar los patrones de actividad física presentes en el *“Gym Members Exercise Dataset”*, explorando cómo variables como la duración de las sesiones, el gasto calórico, la frecuencia de entrenamiento y el nivel de experiencia influyen en indicadores de condición física como el porcentaje de grasa corporal.  \n",
        "\n",
        "Mediante técnicas de análisis univariado, bivariado y multivariado, se busca identificar relaciones significativas entre las variables, obtener una comprensión más profunda de los hábitos de los participantes y establecer una base sólida para futuros desarrollos orientados a la construcción de modelos predictivos en el ámbito del fitness y la salud.  \n",
        "\n",
        "---\n",
        "📊**Visualizaciones y analisis**\n",
        "\n"
      ],
      "metadata": {
        "id": "WeSRnZTFS7NM"
      }
    }
  ]
}